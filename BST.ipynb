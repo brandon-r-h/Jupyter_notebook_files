{
 "cells": [
  {
   "cell_type": "code",
   "execution_count": 180,
   "id": "f0136436",
   "metadata": {},
   "outputs": [],
   "source": [
    "class node:\n",
    "\n",
    "    # provided, feel free to edit\n",
    "    def __repr__(self):\n",
    "        lstr = \"\"\n",
    "        mstr = \"\"\n",
    "        if self.less != None:\n",
    "            lstr = \"(\" + self.less.__repr__() + \") <- \"\n",
    "        if self.more != None:\n",
    "            mstr = \" -> (\" + self.more.__repr__() + \")\"\n",
    "        return lstr + str(self.data) + mstr\n",
    "\n",
    "    # provided, feel free to edit\n",
    "    def __str__(self):\n",
    "        return self.__repr__()\n",
    "\n",
    "    # provided, feel free to edit\n",
    "    def __init__(self, d):\n",
    "        self.data = d # piece of data (not None)\n",
    "        self.kids = [None,None] # None or another node\n",
    "# calculate size of the BST - the number of elements it contains\n",
    "# * always greater than zero\n",
    "    def size(self):\n",
    "        s = 1\n",
    "        for i in [0,1]:\n",
    "            if self.kids[i]:\n",
    "                s += self.kids[i].size()\n",
    "        return s\n",
    "\n",
    "    # calculate size of the BST - the number of elements in the longest single path\n",
    "    # * always greater than zero\t\n",
    "    def depth(self,):\n",
    "        d = 0\n",
    "        for i in [0,1]:\n",
    "            if self.kids[i]:\n",
    "                d = max(self.kids[i].depth(),d)\n",
    "        return d+1\n",
    "    # finds where d should be and finds the parent \n",
    "    \n",
    "            \n",
    "            \n",
    "            \n",
    "    \n",
    "    # given d, return the BST containing all elements in the BST and also d\n",
    "    # * may ignore the case of duplicates, like adding \"2\" twice\n",
    "    # * may assume added elements are of comparable types\n",
    "    def insert(self, d):\n",
    "       \n",
    "       self.kids[int(d>self.data)] = node(d) # single line way of doing this \n",
    "        \n",
    "        \n",
    "    # given d, return true if d is in the BST\n",
    "    # * may assume added elements are of comparable types\n",
    "    def contains(self, d):\n",
    "        return self.traverse(d).kids[int(d>self.data)] == d  # single line way of doing this \n",
    "        \n",
    "    # return the minimum value in the bst\n",
    "    \n",
    "    def getX(self,ind):\n",
    "        if self.kids[ind]:\n",
    "            return self.kids[ind].getX(ind)\n",
    "        else:\n",
    "            return self.data\n",
    "    \n",
    "    def getMin(self):\n",
    "        return self.getX(0)\n",
    "    \n",
    "    # return the maximum value in the bst\n",
    "    def getMax(self):\n",
    "        return self.getX(1)\n",
    "\n",
    "# given d, return the BST containing all elements in the BST except d\n",
    "# * may ignore the case of duplicates\n",
    "# * may assume elements are of comparable types\n",
    "    def remove(self, d):\n",
    "        if self.data !=d:\n",
    "            if d< self.data:\n",
    "                i = 0\n",
    "            else:\n",
    "                i =1 \n",
    "            self.kids[i]= self.kids[i].remove(d)\n",
    "            return self\n",
    "        \n",
    "        if self.kids == [None,None]:\n",
    "            return None\n",
    "        for i in [0,1]:\n",
    "            if self.kids[i] and self.kids[1-i] == None:\n",
    "                return self.kids[i]\n",
    "        #Will only happen once\n",
    "        self.data = self.kids[0].getX(1)\n",
    "        self.kids[0] = self.kids[0].remove(self.data)\n",
    "\n",
    "        \n",
    "\n",
    "# provided as a curiousity, an outer class to wrap node and allow BSTs to be of size zero\n",
    "# feel free to edit\n",
    "class BST:\n",
    "\n",
    "\tdef __repr__(self):\n",
    "\t\treturn \"BST: \" + self.node.__repr__()\n",
    "\t\n",
    "\tdef __str__(self):\n",
    "\t\treturn \"BST: \" + self.node.__str__()\n",
    "\n",
    "\tdef __init__(self, d=None):\n",
    "\t\tif d == None:\n",
    "\t\t\tself.node = None # always a node or None\n",
    "\t\telse:\n",
    "\t\t\tself.node = node(d) # always a node or None\n",
    "\t\t\n",
    "\tdef size(self):\n",
    "\t\tif self.node == None:\n",
    "\t\t\treturn 0\n",
    "\t\treturn self.node.size()\n",
    "\t\n",
    "\tdef depth(self):\n",
    "\t\tif self.node == None:\n",
    "\t\t\treturn 0\n",
    "\t\treturn self.node.depth()\n",
    "\t\n",
    "\t# this returns self for the autograder as a convenience\n",
    "\tdef insert(self, d):\n",
    "\t\tif self.node == None:\n",
    "\t\t\tself.node = node(d)\n",
    "\t\telse:\n",
    "\t\t\tself.node.insert(d)\n",
    "\t\treturn self\n",
    "\t\t\n",
    "\tdef contains(self, d):\n",
    "\t\tif self.node == None:\n",
    "\t\t\treturn False\n",
    "\t\treturn self.node.contains(d)\n",
    "\t\n",
    "\t# returns None if the BST contains no min\n",
    "\tdef getMin(self):\n",
    "\t\tif self.node == None:\n",
    "\t\t\treturn\n",
    "\t\treturn self.node.getMin()\n",
    "\t\n",
    "\t# returns None if the BST contains no max\n",
    "\tdef getMax(self):\n",
    "\t\tif self.node == None:\n",
    "\t\t\treturn\n",
    "\t\treturn self.node.getMax()\n",
    "                            \n",
    "\t# this returns self for the autograder as a convenience\n",
    "\tdef remove(self, d):\n",
    "\t\tif self.node == None:\n",
    "\t\t\treturn\n",
    "\t\tself.node = self.node.remove(d)\n",
    "\t\treturn self\n",
    "\t"
   ]
  },
  {
   "cell_type": "code",
   "execution_count": 181,
   "id": "e5a1c73d",
   "metadata": {},
   "outputs": [],
   "source": [
    "x = node(5)"
   ]
  },
  {
   "cell_type": "code",
   "execution_count": 182,
   "id": "a28d6421",
   "metadata": {},
   "outputs": [
    {
     "data": {
      "text/plain": [
       "1"
      ]
     },
     "execution_count": 182,
     "metadata": {},
     "output_type": "execute_result"
    }
   ],
   "source": [
    "x.size()"
   ]
  },
  {
   "cell_type": "code",
   "execution_count": 186,
   "id": "1f05f345",
   "metadata": {},
   "outputs": [],
   "source": [
    "for i in range(11):\n",
    "    x.insert(i)"
   ]
  },
  {
   "cell_type": "code",
   "execution_count": 187,
   "id": "f885654f",
   "metadata": {},
   "outputs": [
    {
     "data": {
      "text/plain": [
       "2"
      ]
     },
     "execution_count": 187,
     "metadata": {},
     "output_type": "execute_result"
    }
   ],
   "source": [
    "x.depth()"
   ]
  },
  {
   "cell_type": "code",
   "execution_count": null,
   "id": "2f78c257",
   "metadata": {},
   "outputs": [],
   "source": []
  }
 ],
 "metadata": {
  "kernelspec": {
   "display_name": "Python 3 (ipykernel)",
   "language": "python",
   "name": "python3"
  },
  "language_info": {
   "codemirror_mode": {
    "name": "ipython",
    "version": 3
   },
   "file_extension": ".py",
   "mimetype": "text/x-python",
   "name": "python",
   "nbconvert_exporter": "python",
   "pygments_lexer": "ipython3",
   "version": "3.7.3"
  }
 },
 "nbformat": 4,
 "nbformat_minor": 5
}
