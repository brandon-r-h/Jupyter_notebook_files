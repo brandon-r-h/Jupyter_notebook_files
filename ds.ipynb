{
 "cells": [
  {
   "cell_type": "code",
   "execution_count": 32,
   "id": "465ce09f",
   "metadata": {},
   "outputs": [],
   "source": [
    "class heap:\n",
    "    def __init__(self):\n",
    "        self.info = [None]\n",
    "        self.size = 0\n",
    "    \n",
    "    def insert(self,data):\n",
    "        self.info.append(data)\n",
    "        self.size+=1\n",
    "        self.heapify(self.size)\n",
    "    def heapify(self,ind):#index\n",
    "        \n",
    "        if ind==1:\n",
    "            return\n",
    "        if self.info[ind] > self.info[ind//2]:\n",
    "            temp = self.info[ind]\n",
    "            self.info[ind]=self.info[ind//2]\n",
    "            self.info[ind//2]= temp\n",
    "            self.heapify(ind//2)\n",
    "        return\n",
    "     def deheapify(self,ind):#index\n",
    "        if ind*2>self.size:\n",
    "            return\n",
    "        if ind==1:\n",
    "            return\n",
    "        if self.info[ind] < self.info[ind//2]:\n",
    "            temp = self.info[ind]\n",
    "            self.info[ind]=self.info[ind//2]\n",
    "            self.info[ind//2]= temp\n",
    "            self.deheapify(ind*2)\n",
    "        if self.info[ind]< self.info[ind*2+1]:\n",
    "            \n",
    "        return\n",
    "            \n",
    "    def pop(self):\n",
    "        toRet = self.info[1]\n",
    "        self.info[1]= self.info[self.size]\n",
    "        self.info.remove(self.size)\n",
    "        self.deheapify"
   ]
  },
  {
   "cell_type": "code",
   "execution_count": 33,
   "id": "839bfc3e",
   "metadata": {},
   "outputs": [],
   "source": [
    "x = heap()"
   ]
  },
  {
   "cell_type": "code",
   "execution_count": 38,
   "id": "268df083",
   "metadata": {},
   "outputs": [],
   "source": [
    "x.insert(7)"
   ]
  },
  {
   "cell_type": "code",
   "execution_count": 39,
   "id": "aacae0c1",
   "metadata": {},
   "outputs": [
    {
     "data": {
      "text/plain": [
       "[None, 13, 1, 7]"
      ]
     },
     "execution_count": 39,
     "metadata": {},
     "output_type": "execute_result"
    }
   ],
   "source": [
    "x.info\n"
   ]
  },
  {
   "cell_type": "code",
   "execution_count": 89,
   "id": "223aca97",
   "metadata": {},
   "outputs": [],
   "source": [
    "#hash tables"
   ]
  },
  {
   "cell_type": "code",
   "execution_count": 90,
   "id": "30dbf4ed",
   "metadata": {},
   "outputs": [],
   "source": [
    "class Hashtable:\n",
    "    def __init__(self):\n",
    "        self.size = 0\n",
    "        self.max = 4\n",
    "        self.table = [None]*self.max\n",
    "    \n",
    "    def insert(self,x):\n",
    "        h = self.__getHash(x)\n",
    "        self.size +=1\n",
    "        if self.size>self.max//2:\n",
    "            self.__rehash(self.max+2)\n",
    "            \n",
    "        while (self.table[h]!= None):\n",
    "            h +=1\n",
    "        self.table[h] = x\n",
    "    def __getHash(x):\n",
    "        return hash(x)%self.max\n",
    "    def __rehash(s):\n",
    "        self.max = s\n",
    "        old = self.table\n",
    "        self.table = [None]*self.max\n",
    "        self.size = 0\n",
    "        for i in old:\n",
    "            if i != None:\n",
    "                self.insert(i)\n",
    "        "
   ]
  },
  {
   "cell_type": "code",
   "execution_count": 11,
   "id": "9d62ba40",
   "metadata": {},
   "outputs": [],
   "source": [
    "def absVal(n):\n",
    "    if n<0:\n",
    "        return -n\n",
    "    else:\n",
    "        return n\n"
   ]
  },
  {
   "cell_type": "code",
   "execution_count": 12,
   "id": "bb0bd469",
   "metadata": {},
   "outputs": [
    {
     "data": {
      "text/plain": [
       "7"
      ]
     },
     "execution_count": 12,
     "metadata": {},
     "output_type": "execute_result"
    }
   ],
   "source": [
    "absVal(7)"
   ]
  },
  {
   "cell_type": "code",
   "execution_count": null,
   "id": "5fd38653",
   "metadata": {},
   "outputs": [],
   "source": []
  }
 ],
 "metadata": {
  "kernelspec": {
   "display_name": "Python 3 (ipykernel)",
   "language": "python",
   "name": "python3"
  },
  "language_info": {
   "codemirror_mode": {
    "name": "ipython",
    "version": 3
   },
   "file_extension": ".py",
   "mimetype": "text/x-python",
   "name": "python",
   "nbconvert_exporter": "python",
   "pygments_lexer": "ipython3",
   "version": "3.7.3"
  }
 },
 "nbformat": 4,
 "nbformat_minor": 5
}
