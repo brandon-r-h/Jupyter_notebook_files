{
 "cells": [
  {
   "cell_type": "markdown",
   "id": "d68098bf",
   "metadata": {},
   "source": [
    "# Pandas Data Structure"
   ]
  },
  {
   "cell_type": "markdown",
   "id": "4dd217f6",
   "metadata": {},
   "source": [
    "## DataFrame and series resemble list and dictionary for indexing and labeling, but have additional features that make with data easier"
   ]
  },
  {
   "cell_type": "code",
   "execution_count": 7,
   "id": "a2bde0fe",
   "metadata": {},
   "outputs": [],
   "source": [
    "#creating a series \n",
    "#import all neccessary packages\n",
    "\n",
    "import pandas as pd\n",
    "import numpy as np"
   ]
  },
  {
   "cell_type": "code",
   "execution_count": 9,
   "id": "2d545264",
   "metadata": {},
   "outputs": [],
   "source": [
    "a = pd.Series(['banana', 42])\n"
   ]
  },
  {
   "cell_type": "code",
   "execution_count": 10,
   "id": "3664c32f",
   "metadata": {},
   "outputs": [
    {
     "data": {
      "text/plain": [
       "0    banana\n",
       "1        42\n",
       "dtype: object"
      ]
     },
     "execution_count": 10,
     "metadata": {},
     "output_type": "execute_result"
    }
   ],
   "source": [
    "a"
   ]
  },
  {
   "cell_type": "code",
   "execution_count": 11,
   "id": "bdf4b248",
   "metadata": {},
   "outputs": [],
   "source": [
    "s = pd.Series(['Wes McKinney', 'Creator of Pandas'], index = ['Person', 'Who'])"
   ]
  },
  {
   "cell_type": "code",
   "execution_count": 12,
   "id": "4da5eea3",
   "metadata": {},
   "outputs": [
    {
     "data": {
      "text/plain": [
       "Person         Wes McKinney\n",
       "Who       Creator of Pandas\n",
       "dtype: object"
      ]
     },
     "execution_count": 12,
     "metadata": {},
     "output_type": "execute_result"
    }
   ],
   "source": [
    "s"
   ]
  },
  {
   "cell_type": "code",
   "execution_count": 13,
   "id": "2adc056a",
   "metadata": {},
   "outputs": [
    {
     "data": {
      "text/plain": [
       "0    4\n",
       "1    7\n",
       "2   -5\n",
       "3    3\n",
       "dtype: int64"
      ]
     },
     "execution_count": 13,
     "metadata": {},
     "output_type": "execute_result"
    }
   ],
   "source": [
    "obj  = pd.Series([4,7,-5,3])\n",
    "obj"
   ]
  },
  {
   "cell_type": "code",
   "execution_count": 14,
   "id": "68c7ecdc",
   "metadata": {},
   "outputs": [
    {
     "name": "stdout",
     "output_type": "stream",
     "text": [
      "[ 4  7 -5  3]\n"
     ]
    }
   ],
   "source": [
    "print(obj.values)"
   ]
  },
  {
   "cell_type": "code",
   "execution_count": 16,
   "id": "c3f832aa",
   "metadata": {},
   "outputs": [
    {
     "name": "stdout",
     "output_type": "stream",
     "text": [
      "RangeIndex(start=0, stop=4, step=1)\n"
     ]
    }
   ],
   "source": [
    "print(obj.index)"
   ]
  },
  {
   "cell_type": "code",
   "execution_count": 18,
   "id": "bdc4fee9",
   "metadata": {},
   "outputs": [
    {
     "data": {
      "text/plain": [
       "d    4\n",
       "b    7\n",
       "a   -5\n",
       "c    3\n",
       "dtype: int64"
      ]
     },
     "execution_count": 18,
     "metadata": {},
     "output_type": "execute_result"
    }
   ],
   "source": [
    "obj2 = pd.Series([4,7,-5,3], index = ['d', 'b', 'a', 'c'])\n",
    "obj2"
   ]
  },
  {
   "cell_type": "code",
   "execution_count": 19,
   "id": "891307b2",
   "metadata": {},
   "outputs": [
    {
     "data": {
      "text/plain": [
       "-5"
      ]
     },
     "execution_count": 19,
     "metadata": {},
     "output_type": "execute_result"
    }
   ],
   "source": [
    "obj2['a']"
   ]
  },
  {
   "cell_type": "code",
   "execution_count": 20,
   "id": "5e56dc53",
   "metadata": {},
   "outputs": [
    {
     "data": {
      "text/plain": [
       "d    4\n",
       "b    7\n",
       "c    3\n",
       "dtype: int64"
      ]
     },
     "execution_count": 20,
     "metadata": {},
     "output_type": "execute_result"
    }
   ],
   "source": [
    "obj2[obj2>=3]"
   ]
  },
  {
   "cell_type": "code",
   "execution_count": 22,
   "id": "7f6aceaa",
   "metadata": {},
   "outputs": [
    {
     "data": {
      "text/plain": [
       "d      54.598150\n",
       "b    1096.633158\n",
       "a       0.006738\n",
       "c      20.085537\n",
       "dtype: float64"
      ]
     },
     "execution_count": 22,
     "metadata": {},
     "output_type": "execute_result"
    }
   ],
   "source": [
    "np.exp(obj2)"
   ]
  },
  {
   "cell_type": "code",
   "execution_count": 23,
   "id": "5f5a6a40",
   "metadata": {},
   "outputs": [
    {
     "data": {
      "text/plain": [
       "False"
      ]
     },
     "execution_count": 23,
     "metadata": {},
     "output_type": "execute_result"
    }
   ],
   "source": [
    "'f' in obj2"
   ]
  },
  {
   "cell_type": "markdown",
   "id": "c6616b19",
   "metadata": {},
   "source": [
    "## Creating a dataframe"
   ]
  },
  {
   "cell_type": "code",
   "execution_count": 25,
   "id": "3d5de1f0",
   "metadata": {},
   "outputs": [],
   "source": [
    "scientists = pd.DataFrame({'Name':['Roseline Franklin', 'WIlliam Gosset'], 'Occupation':['Chemist', 'Statistisian'],\n",
    "                          'Born':['1920-07-25','1876-06-13'], 'Died': ['1958-04-16','1937-10-16'], \n",
    "                          'Age':[31,61]})"
   ]
  },
  {
   "cell_type": "code",
   "execution_count": 27,
   "id": "ea4b44bd",
   "metadata": {},
   "outputs": [
    {
     "name": "stdout",
     "output_type": "stream",
     "text": [
      "                Name    Occupation        Born        Died  Age\n",
      "0  Roseline Franklin       Chemist  1920-07-25  1958-04-16   31\n",
      "1     WIlliam Gosset  Statistisian  1876-06-13  1937-10-16   61\n"
     ]
    }
   ],
   "source": [
    "print(scientists)"
   ]
  },
  {
   "cell_type": "code",
   "execution_count": null,
   "id": "a0789d76",
   "metadata": {},
   "outputs": [],
   "source": []
  }
 ],
 "metadata": {
  "kernelspec": {
   "display_name": "Python 3 (ipykernel)",
   "language": "python",
   "name": "python3"
  },
  "language_info": {
   "codemirror_mode": {
    "name": "ipython",
    "version": 3
   },
   "file_extension": ".py",
   "mimetype": "text/x-python",
   "name": "python",
   "nbconvert_exporter": "python",
   "pygments_lexer": "ipython3",
   "version": "3.7.3"
  }
 },
 "nbformat": 4,
 "nbformat_minor": 5
}
